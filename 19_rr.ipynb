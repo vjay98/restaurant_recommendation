{
 "cells": [
  {
   "cell_type": "markdown",
   "id": "91cb0eeb-9dc8-4f94-aed5-f4ae26ce69ed",
   "metadata": {},
   "source": [
    "# Restaurant Recommendation #\n",
    "\n",
    "## Introduction ##\n",
    "This report analyzes a dataset of restaurant information to build a recommendation system. The dataset contains information about restaurants, customers, and orders. The goal is to recommend vendors to new customers based on their characteristics and past order history.In this project, we will analyze dataset of restaurant to build recommendation system for restaurants.\n",
    "\n",
    "## Dataset Description ##\n",
    "\n",
    "This [dataset](https://www.kaggle.com/datasets/mrmorj/restaurant-recommendation-challenge/data) contains information on restaurants. \n",
    "\n",
    "There are ~10,000 customers in the test set. These are the customers you will need to recommend a vendor to. Each customer can order from multiple locations (LOC_NUM).\n",
    "\n",
    "There are ~35,000 customers in the train set. Some of these customers have made orders at at least one of 100 vendors."
   ]
  },
  {
   "cell_type": "code",
   "execution_count": 2,
   "id": "0150e302-77b3-44fd-80b5-c8e597ce4d51",
   "metadata": {
    "tags": []
   },
   "outputs": [],
   "source": [
    "import pandas as pd\n",
    "import numpy as np\n",
    "import matplotlib.pyplot as plt\n",
    "import seaborn as sns"
   ]
  },
  {
   "cell_type": "code",
   "execution_count": 3,
   "id": "7e291299-588b-4d3a-91f7-c6a458644b37",
   "metadata": {
    "tags": []
   },
   "outputs": [],
   "source": [
    "# Read data\n",
    "vendors = pd.read_csv('vendors.csv')"
   ]
  },
  {
   "cell_type": "code",
   "execution_count": 4,
   "id": "480aecdb-f26d-477b-aafe-161bc00f6df4",
   "metadata": {
    "tags": []
   },
   "outputs": [
    {
     "data": {
      "text/html": [
       "<div>\n",
       "<style scoped>\n",
       "    .dataframe tbody tr th:only-of-type {\n",
       "        vertical-align: middle;\n",
       "    }\n",
       "\n",
       "    .dataframe tbody tr th {\n",
       "        vertical-align: top;\n",
       "    }\n",
       "\n",
       "    .dataframe thead th {\n",
       "        text-align: right;\n",
       "    }\n",
       "</style>\n",
       "<table border=\"1\" class=\"dataframe\">\n",
       "  <thead>\n",
       "    <tr style=\"text-align: right;\">\n",
       "      <th></th>\n",
       "      <th>id</th>\n",
       "      <th>authentication_id</th>\n",
       "      <th>latitude</th>\n",
       "      <th>longitude</th>\n",
       "      <th>vendor_category_en</th>\n",
       "      <th>vendor_category_id</th>\n",
       "      <th>delivery_charge</th>\n",
       "      <th>serving_distance</th>\n",
       "      <th>is_open</th>\n",
       "      <th>OpeningTime</th>\n",
       "      <th>...</th>\n",
       "      <th>open_close_flags</th>\n",
       "      <th>vendor_tag</th>\n",
       "      <th>vendor_tag_name</th>\n",
       "      <th>one_click_vendor</th>\n",
       "      <th>country_id</th>\n",
       "      <th>city_id</th>\n",
       "      <th>created_at</th>\n",
       "      <th>updated_at</th>\n",
       "      <th>device_type</th>\n",
       "      <th>display_orders</th>\n",
       "    </tr>\n",
       "  </thead>\n",
       "  <tbody>\n",
       "    <tr>\n",
       "      <th>0</th>\n",
       "      <td>4</td>\n",
       "      <td>118597.0</td>\n",
       "      <td>-0.588596</td>\n",
       "      <td>0.754434</td>\n",
       "      <td>Restaurants</td>\n",
       "      <td>2.0</td>\n",
       "      <td>0.0</td>\n",
       "      <td>6.0</td>\n",
       "      <td>1.0</td>\n",
       "      <td>11:00AM-11:30PM</td>\n",
       "      <td>...</td>\n",
       "      <td>1.0</td>\n",
       "      <td>2,4,5,8,91,22,12,24,16,23</td>\n",
       "      <td>Arabic,Breakfast,Burgers,Desserts,Free Deliver...</td>\n",
       "      <td>Y</td>\n",
       "      <td>1.0</td>\n",
       "      <td>1.0</td>\n",
       "      <td>2018-01-30 14:42:04</td>\n",
       "      <td>2020-04-07 15:12:43</td>\n",
       "      <td>3</td>\n",
       "      <td>1</td>\n",
       "    </tr>\n",
       "    <tr>\n",
       "      <th>1</th>\n",
       "      <td>13</td>\n",
       "      <td>118608.0</td>\n",
       "      <td>-0.471654</td>\n",
       "      <td>0.744470</td>\n",
       "      <td>Restaurants</td>\n",
       "      <td>2.0</td>\n",
       "      <td>0.7</td>\n",
       "      <td>5.0</td>\n",
       "      <td>1.0</td>\n",
       "      <td>08:30AM-10:30PM</td>\n",
       "      <td>...</td>\n",
       "      <td>1.0</td>\n",
       "      <td>4,41,51,34,27,15,24,16,28</td>\n",
       "      <td>Breakfast,Cakes,Crepes,Italian,Pasta,Pizzas,Sa...</td>\n",
       "      <td>Y</td>\n",
       "      <td>1.0</td>\n",
       "      <td>1.0</td>\n",
       "      <td>2018-05-03 12:32:06</td>\n",
       "      <td>2020-04-05 20:46:03</td>\n",
       "      <td>3</td>\n",
       "      <td>1</td>\n",
       "    </tr>\n",
       "    <tr>\n",
       "      <th>2</th>\n",
       "      <td>20</td>\n",
       "      <td>118616.0</td>\n",
       "      <td>-0.407527</td>\n",
       "      <td>0.643681</td>\n",
       "      <td>Restaurants</td>\n",
       "      <td>2.0</td>\n",
       "      <td>0.0</td>\n",
       "      <td>8.0</td>\n",
       "      <td>1.0</td>\n",
       "      <td>08:00AM-10:45PM</td>\n",
       "      <td>...</td>\n",
       "      <td>1.0</td>\n",
       "      <td>4,8,91,10</td>\n",
       "      <td>Breakfast,Desserts,Free Delivery,Indian</td>\n",
       "      <td>Y</td>\n",
       "      <td>1.0</td>\n",
       "      <td>1.0</td>\n",
       "      <td>2018-05-04 22:28:22</td>\n",
       "      <td>2020-04-07 16:35:55</td>\n",
       "      <td>3</td>\n",
       "      <td>1</td>\n",
       "    </tr>\n",
       "    <tr>\n",
       "      <th>3</th>\n",
       "      <td>23</td>\n",
       "      <td>118619.0</td>\n",
       "      <td>-0.585385</td>\n",
       "      <td>0.753811</td>\n",
       "      <td>Restaurants</td>\n",
       "      <td>2.0</td>\n",
       "      <td>0.0</td>\n",
       "      <td>5.0</td>\n",
       "      <td>1.0</td>\n",
       "      <td>10:59AM-10:30PM</td>\n",
       "      <td>...</td>\n",
       "      <td>1.0</td>\n",
       "      <td>5,8,30,24</td>\n",
       "      <td>Burgers,Desserts,Fries,Salads</td>\n",
       "      <td>Y</td>\n",
       "      <td>1.0</td>\n",
       "      <td>1.0</td>\n",
       "      <td>2018-05-06 19:20:48</td>\n",
       "      <td>2020-04-02 00:56:17</td>\n",
       "      <td>3</td>\n",
       "      <td>1</td>\n",
       "    </tr>\n",
       "    <tr>\n",
       "      <th>4</th>\n",
       "      <td>28</td>\n",
       "      <td>118624.0</td>\n",
       "      <td>0.480602</td>\n",
       "      <td>0.552850</td>\n",
       "      <td>Restaurants</td>\n",
       "      <td>2.0</td>\n",
       "      <td>0.7</td>\n",
       "      <td>15.0</td>\n",
       "      <td>1.0</td>\n",
       "      <td>11:00AM-11:45PM</td>\n",
       "      <td>...</td>\n",
       "      <td>1.0</td>\n",
       "      <td>5</td>\n",
       "      <td>Burgers</td>\n",
       "      <td>Y</td>\n",
       "      <td>1.0</td>\n",
       "      <td>1.0</td>\n",
       "      <td>2018-05-17 22:12:38</td>\n",
       "      <td>2020-04-05 15:57:41</td>\n",
       "      <td>3</td>\n",
       "      <td>1</td>\n",
       "    </tr>\n",
       "  </tbody>\n",
       "</table>\n",
       "<p>5 rows × 59 columns</p>\n",
       "</div>"
      ],
      "text/plain": [
       "   id  authentication_id  latitude  longitude vendor_category_en  \\\n",
       "0   4           118597.0 -0.588596   0.754434        Restaurants   \n",
       "1  13           118608.0 -0.471654   0.744470        Restaurants   \n",
       "2  20           118616.0 -0.407527   0.643681        Restaurants   \n",
       "3  23           118619.0 -0.585385   0.753811        Restaurants   \n",
       "4  28           118624.0  0.480602   0.552850        Restaurants   \n",
       "\n",
       "   vendor_category_id  delivery_charge  serving_distance  is_open  \\\n",
       "0                 2.0              0.0               6.0      1.0   \n",
       "1                 2.0              0.7               5.0      1.0   \n",
       "2                 2.0              0.0               8.0      1.0   \n",
       "3                 2.0              0.0               5.0      1.0   \n",
       "4                 2.0              0.7              15.0      1.0   \n",
       "\n",
       "       OpeningTime  ... open_close_flags                 vendor_tag  \\\n",
       "0  11:00AM-11:30PM  ...              1.0  2,4,5,8,91,22,12,24,16,23   \n",
       "1  08:30AM-10:30PM  ...              1.0  4,41,51,34,27,15,24,16,28   \n",
       "2  08:00AM-10:45PM  ...              1.0                  4,8,91,10   \n",
       "3  10:59AM-10:30PM  ...              1.0                  5,8,30,24   \n",
       "4  11:00AM-11:45PM  ...              1.0                          5   \n",
       "\n",
       "                                     vendor_tag_name one_click_vendor  \\\n",
       "0  Arabic,Breakfast,Burgers,Desserts,Free Deliver...                Y   \n",
       "1  Breakfast,Cakes,Crepes,Italian,Pasta,Pizzas,Sa...                Y   \n",
       "2            Breakfast,Desserts,Free Delivery,Indian                Y   \n",
       "3                      Burgers,Desserts,Fries,Salads                Y   \n",
       "4                                            Burgers                Y   \n",
       "\n",
       "   country_id  city_id           created_at           updated_at device_type  \\\n",
       "0         1.0      1.0  2018-01-30 14:42:04  2020-04-07 15:12:43           3   \n",
       "1         1.0      1.0  2018-05-03 12:32:06  2020-04-05 20:46:03           3   \n",
       "2         1.0      1.0  2018-05-04 22:28:22  2020-04-07 16:35:55           3   \n",
       "3         1.0      1.0  2018-05-06 19:20:48  2020-04-02 00:56:17           3   \n",
       "4         1.0      1.0  2018-05-17 22:12:38  2020-04-05 15:57:41           3   \n",
       "\n",
       "   display_orders  \n",
       "0               1  \n",
       "1               1  \n",
       "2               1  \n",
       "3               1  \n",
       "4               1  \n",
       "\n",
       "[5 rows x 59 columns]"
      ]
     },
     "execution_count": 4,
     "metadata": {},
     "output_type": "execute_result"
    }
   ],
   "source": [
    "vendors.head()"
   ]
  },
  {
   "cell_type": "code",
   "execution_count": 5,
   "id": "a7b3ca6e-d8ce-4606-8738-4b90d6be8643",
   "metadata": {
    "tags": []
   },
   "outputs": [
    {
     "name": "stdout",
     "output_type": "stream",
     "text": [
      "<class 'pandas.core.frame.DataFrame'>\n",
      "RangeIndex: 100 entries, 0 to 99\n",
      "Data columns (total 59 columns):\n",
      " #   Column                Non-Null Count  Dtype  \n",
      "---  ------                --------------  -----  \n",
      " 0   id                    100 non-null    int64  \n",
      " 1   authentication_id     100 non-null    float64\n",
      " 2   latitude              100 non-null    float64\n",
      " 3   longitude             100 non-null    float64\n",
      " 4   vendor_category_en    100 non-null    object \n",
      " 5   vendor_category_id    100 non-null    float64\n",
      " 6   delivery_charge       100 non-null    float64\n",
      " 7   serving_distance      100 non-null    float64\n",
      " 8   is_open               100 non-null    float64\n",
      " 9   OpeningTime           91 non-null     object \n",
      " 10  OpeningTime2          91 non-null     object \n",
      " 11  prepration_time       100 non-null    int64  \n",
      " 12  commission            85 non-null     float64\n",
      " 13  is_akeed_delivering   100 non-null    object \n",
      " 14  discount_percentage   100 non-null    float64\n",
      " 15  status                100 non-null    float64\n",
      " 16  verified              100 non-null    int64  \n",
      " 17  rank                  100 non-null    int64  \n",
      " 18  language              85 non-null     object \n",
      " 19  vendor_rating         100 non-null    float64\n",
      " 20  sunday_from_time1     99 non-null     object \n",
      " 21  sunday_to_time1       99 non-null     object \n",
      " 22  sunday_from_time2     42 non-null     object \n",
      " 23  sunday_to_time2       42 non-null     object \n",
      " 24  monday_from_time1     100 non-null    object \n",
      " 25  monday_to_time1       100 non-null    object \n",
      " 26  monday_from_time2     42 non-null     object \n",
      " 27  monday_to_time2       42 non-null     object \n",
      " 28  tuesday_from_time1    99 non-null     object \n",
      " 29  tuesday_to_time1      99 non-null     object \n",
      " 30  tuesday_from_time2    41 non-null     object \n",
      " 31  tuesday_to_time2      41 non-null     object \n",
      " 32  wednesday_from_time1  100 non-null    object \n",
      " 33  wednesday_to_time1    100 non-null    object \n",
      " 34  wednesday_from_time2  42 non-null     object \n",
      " 35  wednesday_to_time2    42 non-null     object \n",
      " 36  thursday_from_time1   99 non-null     object \n",
      " 37  thursday_to_time1     99 non-null     object \n",
      " 38  thursday_from_time2   42 non-null     object \n",
      " 39  thursday_to_time2     42 non-null     object \n",
      " 40  friday_from_time1     96 non-null     object \n",
      " 41  friday_to_time1       96 non-null     object \n",
      " 42  friday_from_time2     45 non-null     object \n",
      " 43  friday_to_time2       45 non-null     object \n",
      " 44  saturday_from_time1   98 non-null     object \n",
      " 45  saturday_to_time1     98 non-null     object \n",
      " 46  saturday_from_time2   42 non-null     object \n",
      " 47  saturday_to_time2     42 non-null     object \n",
      " 48  primary_tags          77 non-null     object \n",
      " 49  open_close_flags      100 non-null    float64\n",
      " 50  vendor_tag            97 non-null     object \n",
      " 51  vendor_tag_name       97 non-null     object \n",
      " 52  one_click_vendor      100 non-null    object \n",
      " 53  country_id            100 non-null    float64\n",
      " 54  city_id               100 non-null    float64\n",
      " 55  created_at            100 non-null    object \n",
      " 56  updated_at            100 non-null    object \n",
      " 57  device_type           100 non-null    int64  \n",
      " 58  display_orders        100 non-null    int64  \n",
      "dtypes: float64(14), int64(6), object(39)\n",
      "memory usage: 46.2+ KB\n"
     ]
    }
   ],
   "source": [
    "vendors.info()"
   ]
  },
  {
   "cell_type": "code",
   "execution_count": 6,
   "id": "6b7481f0-79f5-4110-a2df-87d14d465376",
   "metadata": {
    "tags": []
   },
   "outputs": [
    {
     "name": "stdout",
     "output_type": "stream",
     "text": [
      "<class 'pandas.core.frame.DataFrame'>\n",
      "RangeIndex: 100 entries, 0 to 99\n",
      "Data columns (total 59 columns):\n",
      " #   Column                Non-Null Count  Dtype  \n",
      "---  ------                --------------  -----  \n",
      " 0   id                    100 non-null    int64  \n",
      " 1   authentication_id     100 non-null    float64\n",
      " 2   latitude              100 non-null    float64\n",
      " 3   longitude             100 non-null    float64\n",
      " 4   vendor_category_en    100 non-null    object \n",
      " 5   vendor_category_id    100 non-null    float64\n",
      " 6   delivery_charge       100 non-null    float64\n",
      " 7   serving_distance      100 non-null    float64\n",
      " 8   is_open               100 non-null    float64\n",
      " 9   OpeningTime           91 non-null     object \n",
      " 10  OpeningTime2          91 non-null     object \n",
      " 11  prepration_time       100 non-null    int64  \n",
      " 12  commission            85 non-null     float64\n",
      " 13  is_akeed_delivering   100 non-null    object \n",
      " 14  discount_percentage   100 non-null    float64\n",
      " 15  status                100 non-null    float64\n",
      " 16  verified              100 non-null    int64  \n",
      " 17  rank                  100 non-null    int64  \n",
      " 18  language              85 non-null     object \n",
      " 19  vendor_rating         100 non-null    float64\n",
      " 20  sunday_from_time1     99 non-null     object \n",
      " 21  sunday_to_time1       99 non-null     object \n",
      " 22  sunday_from_time2     42 non-null     object \n",
      " 23  sunday_to_time2       42 non-null     object \n",
      " 24  monday_from_time1     100 non-null    object \n",
      " 25  monday_to_time1       100 non-null    object \n",
      " 26  monday_from_time2     42 non-null     object \n",
      " 27  monday_to_time2       42 non-null     object \n",
      " 28  tuesday_from_time1    99 non-null     object \n",
      " 29  tuesday_to_time1      99 non-null     object \n",
      " 30  tuesday_from_time2    41 non-null     object \n",
      " 31  tuesday_to_time2      41 non-null     object \n",
      " 32  wednesday_from_time1  100 non-null    object \n",
      " 33  wednesday_to_time1    100 non-null    object \n",
      " 34  wednesday_from_time2  42 non-null     object \n",
      " 35  wednesday_to_time2    42 non-null     object \n",
      " 36  thursday_from_time1   99 non-null     object \n",
      " 37  thursday_to_time1     99 non-null     object \n",
      " 38  thursday_from_time2   42 non-null     object \n",
      " 39  thursday_to_time2     42 non-null     object \n",
      " 40  friday_from_time1     96 non-null     object \n",
      " 41  friday_to_time1       96 non-null     object \n",
      " 42  friday_from_time2     45 non-null     object \n",
      " 43  friday_to_time2       45 non-null     object \n",
      " 44  saturday_from_time1   98 non-null     object \n",
      " 45  saturday_to_time1     98 non-null     object \n",
      " 46  saturday_from_time2   42 non-null     object \n",
      " 47  saturday_to_time2     42 non-null     object \n",
      " 48  primary_tags          77 non-null     object \n",
      " 49  open_close_flags      100 non-null    float64\n",
      " 50  vendor_tag            97 non-null     object \n",
      " 51  vendor_tag_name       97 non-null     object \n",
      " 52  one_click_vendor      100 non-null    object \n",
      " 53  country_id            100 non-null    float64\n",
      " 54  city_id               100 non-null    float64\n",
      " 55  created_at            100 non-null    object \n",
      " 56  updated_at            100 non-null    object \n",
      " 57  device_type           100 non-null    int64  \n",
      " 58  display_orders        100 non-null    int64  \n",
      "dtypes: float64(14), int64(6), object(39)\n",
      "memory usage: 46.2+ KB\n"
     ]
    }
   ],
   "source": [
    "vendors.info()"
   ]
  },
  {
   "cell_type": "code",
   "execution_count": 7,
   "id": "31aa36e6-2899-4a06-aa5e-8fea6b96e976",
   "metadata": {
    "tags": []
   },
   "outputs": [
    {
     "name": "stdout",
     "output_type": "stream",
     "text": [
      "9\n"
     ]
    }
   ],
   "source": [
    "print(vendors['OpeningTime'].isnull().sum())"
   ]
  },
  {
   "cell_type": "markdown",
   "id": "e34df6ef-8b14-4674-92c5-d9d30fca76af",
   "metadata": {},
   "source": [
    "## Handling Missing Values ##"
   ]
  },
  {
   "cell_type": "code",
   "execution_count": 9,
   "id": "2facf565-10f8-4e42-b906-f44d510a05d5",
   "metadata": {
    "tags": []
   },
   "outputs": [
    {
     "name": "stdout",
     "output_type": "stream",
     "text": [
      "     id  authentication_id   latitude  longitude vendor_category_en  \\\n",
      "91  841           130436.0  -0.496138   0.740214        Restaurants   \n",
      "92  843           130447.0  -1.269317   0.082343        Restaurants   \n",
      "93  845           130450.0  -0.116904   0.181583        Restaurants   \n",
      "94  846           130451.0  -0.441823   0.099479        Restaurants   \n",
      "95  849           130455.0  -1.588060  -0.066441        Restaurants   \n",
      "96  855           130463.0   2.145206   0.745025        Restaurants   \n",
      "97  856           130464.0   0.251469   0.483632        Restaurants   \n",
      "98  858           130468.0   0.019817   0.587087        Restaurants   \n",
      "99  907           132953.0  13.335131  -1.449556        Restaurants   \n",
      "\n",
      "    vendor_category_id  delivery_charge  serving_distance  is_open  \\\n",
      "91                 2.0              0.0               6.0      1.0   \n",
      "92                 2.0              0.0               5.0      1.0   \n",
      "93                 2.0              0.0               5.0      1.0   \n",
      "94                 2.0              0.0               6.0      1.0   \n",
      "95                 2.0              0.0              10.0      1.0   \n",
      "96                 2.0              0.0               8.0      1.0   \n",
      "97                 2.0              0.0               7.0      1.0   \n",
      "98                 2.0              0.0               3.0      1.0   \n",
      "99                 2.0              0.7              12.0      1.0   \n",
      "\n",
      "   OpeningTime  ... open_close_flags                vendor_tag  \\\n",
      "91         NaN  ...              1.0  1,4,5,6,8,91,30,43,48,24   \n",
      "92         NaN  ...              1.0  1,4,5,6,8,91,30,43,48,24   \n",
      "93         NaN  ...              1.0  1,4,5,6,8,91,30,43,48,24   \n",
      "94         NaN  ...              1.0  1,4,5,6,8,91,30,43,48,24   \n",
      "95         NaN  ...              1.0  1,4,5,6,8,91,30,43,48,24   \n",
      "96         NaN  ...              1.0         1,5,8,91,30,48,24   \n",
      "97         NaN  ...              1.0  1,4,5,6,8,91,30,43,48,24   \n",
      "98         NaN  ...              1.0  1,4,5,6,8,91,30,43,48,24   \n",
      "99         NaN  ...              1.0                  46,52,16   \n",
      "\n",
      "                                      vendor_tag_name one_click_vendor  \\\n",
      "91  American,Breakfast,Burgers,Cafe,Desserts,Free ...                Y   \n",
      "92  American,Breakfast,Burgers,Cafe,Desserts,Free ...                Y   \n",
      "93  American,Breakfast,Burgers,Cafe,Desserts,Free ...                Y   \n",
      "94  American,Breakfast,Burgers,Cafe,Desserts,Free ...                Y   \n",
      "95  American,Breakfast,Burgers,Cafe,Desserts,Free ...                Y   \n",
      "96  American,Burgers,Desserts,Free Delivery,Fries,...                Y   \n",
      "97  American,Breakfast,Burgers,Cafe,Desserts,Free ...                Y   \n",
      "98  American,Breakfast,Burgers,Cafe,Desserts,Free ...                Y   \n",
      "99                       Fatayers,Mojitos ,Sandwiches                Y   \n",
      "\n",
      "    country_id  city_id           created_at           updated_at device_type  \\\n",
      "91         1.0      1.0  2019-12-21 00:16:09  2020-04-07 15:09:12           3   \n",
      "92         1.0      1.0  2019-12-21 12:31:16  2020-04-07 19:01:17           3   \n",
      "93         1.0      1.0  2019-12-21 12:37:34  2020-04-08 03:43:30           3   \n",
      "94         1.0      1.0  2019-12-21 12:40:36  2020-04-06 16:19:44           3   \n",
      "95         1.0      1.0  2019-12-21 12:47:39  2020-04-07 20:01:33           3   \n",
      "96         1.0      1.0  2019-12-21 13:02:32  2020-04-07 01:50:41           3   \n",
      "97         1.0      1.0  2019-12-21 13:04:34  2020-04-06 23:53:16           3   \n",
      "98         1.0      1.0  2019-12-21 13:12:09  2020-04-07 14:26:08           3   \n",
      "99         1.0      1.0  2020-01-05 18:56:58  2020-04-06 23:49:52           3   \n",
      "\n",
      "    display_orders  \n",
      "91               1  \n",
      "92               1  \n",
      "93               1  \n",
      "94               1  \n",
      "95               1  \n",
      "96               1  \n",
      "97               1  \n",
      "98               1  \n",
      "99               1  \n",
      "\n",
      "[9 rows x 59 columns]\n"
     ]
    }
   ],
   "source": [
    "print(vendors[vendors['OpeningTime'].isnull()])"
   ]
  },
  {
   "cell_type": "markdown",
   "id": "b814ef70-4201-4d27-88ea-e459ceed2b08",
   "metadata": {},
   "source": [
    "After considering `is_open`, `preparation_time`, and `vendor_rating`, we will fill those null values with '24/7', indicating the restaurants operates 24 hours a day."
   ]
  },
  {
   "cell_type": "code",
   "execution_count": 11,
   "id": "43bcd13c-c6d6-4b0f-b94e-83d495d4414a",
   "metadata": {
    "tags": []
   },
   "outputs": [
    {
     "data": {
      "text/plain": [
       "0"
      ]
     },
     "execution_count": 11,
     "metadata": {},
     "output_type": "execute_result"
    }
   ],
   "source": [
    "vendors['OpeningTime'] = vendors['OpeningTime'].fillna('24/7')\n",
    "vendors['OpeningTime'].isnull().sum()"
   ]
  },
  {
   "cell_type": "code",
   "execution_count": 12,
   "id": "c3c2590f-7e11-4b92-9625-84b7c150b4bc",
   "metadata": {
    "tags": []
   },
   "outputs": [],
   "source": [
    "# Read the second data \n",
    "train_customers = pd.read_csv('train_customers.csv')"
   ]
  },
  {
   "cell_type": "code",
   "execution_count": 13,
   "id": "a116e97c-2114-41fb-964b-55e6782dea2e",
   "metadata": {
    "tags": []
   },
   "outputs": [
    {
     "data": {
      "text/html": [
       "<div>\n",
       "<style scoped>\n",
       "    .dataframe tbody tr th:only-of-type {\n",
       "        vertical-align: middle;\n",
       "    }\n",
       "\n",
       "    .dataframe tbody tr th {\n",
       "        vertical-align: top;\n",
       "    }\n",
       "\n",
       "    .dataframe thead th {\n",
       "        text-align: right;\n",
       "    }\n",
       "</style>\n",
       "<table border=\"1\" class=\"dataframe\">\n",
       "  <thead>\n",
       "    <tr style=\"text-align: right;\">\n",
       "      <th></th>\n",
       "      <th>akeed_customer_id</th>\n",
       "      <th>gender</th>\n",
       "      <th>dob</th>\n",
       "      <th>status</th>\n",
       "      <th>verified</th>\n",
       "      <th>language</th>\n",
       "      <th>created_at</th>\n",
       "      <th>updated_at</th>\n",
       "    </tr>\n",
       "  </thead>\n",
       "  <tbody>\n",
       "    <tr>\n",
       "      <th>0</th>\n",
       "      <td>TCHWPBT</td>\n",
       "      <td>Male</td>\n",
       "      <td>NaN</td>\n",
       "      <td>1</td>\n",
       "      <td>1</td>\n",
       "      <td>EN</td>\n",
       "      <td>2018-02-07 19:16:23</td>\n",
       "      <td>2018-02-07 19:16:23</td>\n",
       "    </tr>\n",
       "    <tr>\n",
       "      <th>1</th>\n",
       "      <td>ZGFSYCZ</td>\n",
       "      <td>Male</td>\n",
       "      <td>NaN</td>\n",
       "      <td>1</td>\n",
       "      <td>1</td>\n",
       "      <td>EN</td>\n",
       "      <td>2018-02-09 12:04:42</td>\n",
       "      <td>2018-02-09 12:04:41</td>\n",
       "    </tr>\n",
       "    <tr>\n",
       "      <th>2</th>\n",
       "      <td>S2ALZFL</td>\n",
       "      <td>Male</td>\n",
       "      <td>NaN</td>\n",
       "      <td>0</td>\n",
       "      <td>1</td>\n",
       "      <td>EN</td>\n",
       "      <td>2018-03-14 18:31:43</td>\n",
       "      <td>2018-03-14 18:31:42</td>\n",
       "    </tr>\n",
       "    <tr>\n",
       "      <th>3</th>\n",
       "      <td>952DBJQ</td>\n",
       "      <td>Male</td>\n",
       "      <td>NaN</td>\n",
       "      <td>1</td>\n",
       "      <td>1</td>\n",
       "      <td>EN</td>\n",
       "      <td>2018-03-15 19:47:07</td>\n",
       "      <td>2018-03-15 19:47:07</td>\n",
       "    </tr>\n",
       "    <tr>\n",
       "      <th>4</th>\n",
       "      <td>1IX6FXS</td>\n",
       "      <td>Male</td>\n",
       "      <td>NaN</td>\n",
       "      <td>1</td>\n",
       "      <td>1</td>\n",
       "      <td>EN</td>\n",
       "      <td>2018-03-15 19:57:01</td>\n",
       "      <td>2018-03-15 19:57:01</td>\n",
       "    </tr>\n",
       "  </tbody>\n",
       "</table>\n",
       "</div>"
      ],
      "text/plain": [
       "  akeed_customer_id gender  dob  status  verified language  \\\n",
       "0           TCHWPBT   Male  NaN       1         1       EN   \n",
       "1           ZGFSYCZ   Male  NaN       1         1       EN   \n",
       "2           S2ALZFL   Male  NaN       0         1       EN   \n",
       "3           952DBJQ   Male  NaN       1         1       EN   \n",
       "4           1IX6FXS   Male  NaN       1         1       EN   \n",
       "\n",
       "            created_at           updated_at  \n",
       "0  2018-02-07 19:16:23  2018-02-07 19:16:23  \n",
       "1  2018-02-09 12:04:42  2018-02-09 12:04:41  \n",
       "2  2018-03-14 18:31:43  2018-03-14 18:31:42  \n",
       "3  2018-03-15 19:47:07  2018-03-15 19:47:07  \n",
       "4  2018-03-15 19:57:01  2018-03-15 19:57:01  "
      ]
     },
     "execution_count": 13,
     "metadata": {},
     "output_type": "execute_result"
    }
   ],
   "source": [
    "train_customers.head()"
   ]
  },
  {
   "cell_type": "code",
   "execution_count": 14,
   "id": "ce2b2b05-a4f9-44df-b031-4a5e311d446d",
   "metadata": {
    "tags": []
   },
   "outputs": [
    {
     "name": "stdout",
     "output_type": "stream",
     "text": [
      "<class 'pandas.core.frame.DataFrame'>\n",
      "RangeIndex: 34674 entries, 0 to 34673\n",
      "Data columns (total 8 columns):\n",
      " #   Column             Non-Null Count  Dtype  \n",
      "---  ------             --------------  -----  \n",
      " 0   akeed_customer_id  34674 non-null  object \n",
      " 1   gender             22520 non-null  object \n",
      " 2   dob                3046 non-null   float64\n",
      " 3   status             34674 non-null  int64  \n",
      " 4   verified           34674 non-null  int64  \n",
      " 5   language           21099 non-null  object \n",
      " 6   created_at         34674 non-null  object \n",
      " 7   updated_at         34674 non-null  object \n",
      "dtypes: float64(1), int64(2), object(5)\n",
      "memory usage: 2.1+ MB\n"
     ]
    }
   ],
   "source": [
    "train_customers.info()"
   ]
  },
  {
   "cell_type": "code",
   "execution_count": 15,
   "id": "caf8a8b2-6b23-4648-96aa-a70b23f14dca",
   "metadata": {
    "tags": []
   },
   "outputs": [
    {
     "data": {
      "text/html": [
       "<div>\n",
       "<style scoped>\n",
       "    .dataframe tbody tr th:only-of-type {\n",
       "        vertical-align: middle;\n",
       "    }\n",
       "\n",
       "    .dataframe tbody tr th {\n",
       "        vertical-align: top;\n",
       "    }\n",
       "\n",
       "    .dataframe thead th {\n",
       "        text-align: right;\n",
       "    }\n",
       "</style>\n",
       "<table border=\"1\" class=\"dataframe\">\n",
       "  <thead>\n",
       "    <tr style=\"text-align: right;\">\n",
       "      <th></th>\n",
       "      <th>dob</th>\n",
       "      <th>status</th>\n",
       "      <th>verified</th>\n",
       "    </tr>\n",
       "  </thead>\n",
       "  <tbody>\n",
       "    <tr>\n",
       "      <th>count</th>\n",
       "      <td>3046.000000</td>\n",
       "      <td>34674.000000</td>\n",
       "      <td>34674.000000</td>\n",
       "    </tr>\n",
       "    <tr>\n",
       "      <th>mean</th>\n",
       "      <td>1991.210768</td>\n",
       "      <td>0.998991</td>\n",
       "      <td>0.956538</td>\n",
       "    </tr>\n",
       "    <tr>\n",
       "      <th>std</th>\n",
       "      <td>48.422045</td>\n",
       "      <td>0.031756</td>\n",
       "      <td>0.203898</td>\n",
       "    </tr>\n",
       "    <tr>\n",
       "      <th>min</th>\n",
       "      <td>1.000000</td>\n",
       "      <td>0.000000</td>\n",
       "      <td>0.000000</td>\n",
       "    </tr>\n",
       "    <tr>\n",
       "      <th>25%</th>\n",
       "      <td>1986.000000</td>\n",
       "      <td>1.000000</td>\n",
       "      <td>1.000000</td>\n",
       "    </tr>\n",
       "    <tr>\n",
       "      <th>50%</th>\n",
       "      <td>1993.000000</td>\n",
       "      <td>1.000000</td>\n",
       "      <td>1.000000</td>\n",
       "    </tr>\n",
       "    <tr>\n",
       "      <th>75%</th>\n",
       "      <td>1999.000000</td>\n",
       "      <td>1.000000</td>\n",
       "      <td>1.000000</td>\n",
       "    </tr>\n",
       "    <tr>\n",
       "      <th>max</th>\n",
       "      <td>2562.000000</td>\n",
       "      <td>1.000000</td>\n",
       "      <td>1.000000</td>\n",
       "    </tr>\n",
       "  </tbody>\n",
       "</table>\n",
       "</div>"
      ],
      "text/plain": [
       "               dob        status      verified\n",
       "count  3046.000000  34674.000000  34674.000000\n",
       "mean   1991.210768      0.998991      0.956538\n",
       "std      48.422045      0.031756      0.203898\n",
       "min       1.000000      0.000000      0.000000\n",
       "25%    1986.000000      1.000000      1.000000\n",
       "50%    1993.000000      1.000000      1.000000\n",
       "75%    1999.000000      1.000000      1.000000\n",
       "max    2562.000000      1.000000      1.000000"
      ]
     },
     "execution_count": 15,
     "metadata": {},
     "output_type": "execute_result"
    }
   ],
   "source": [
    "train_customers.describe()"
   ]
  },
  {
   "cell_type": "code",
   "execution_count": 16,
   "id": "0a02bc2d-89bb-494d-bce5-a0a86320bde2",
   "metadata": {
    "tags": []
   },
   "outputs": [
    {
     "data": {
      "text/html": [
       "<div>\n",
       "<style scoped>\n",
       "    .dataframe tbody tr th:only-of-type {\n",
       "        vertical-align: middle;\n",
       "    }\n",
       "\n",
       "    .dataframe tbody tr th {\n",
       "        vertical-align: top;\n",
       "    }\n",
       "\n",
       "    .dataframe thead th {\n",
       "        text-align: right;\n",
       "    }\n",
       "</style>\n",
       "<table border=\"1\" class=\"dataframe\">\n",
       "  <thead>\n",
       "    <tr style=\"text-align: right;\">\n",
       "      <th></th>\n",
       "      <th>akeed_customer_id</th>\n",
       "      <th>gender</th>\n",
       "      <th>language</th>\n",
       "      <th>created_at</th>\n",
       "      <th>updated_at</th>\n",
       "    </tr>\n",
       "  </thead>\n",
       "  <tbody>\n",
       "    <tr>\n",
       "      <th>count</th>\n",
       "      <td>34674</td>\n",
       "      <td>22520</td>\n",
       "      <td>21099</td>\n",
       "      <td>34674</td>\n",
       "      <td>34674</td>\n",
       "    </tr>\n",
       "    <tr>\n",
       "      <th>unique</th>\n",
       "      <td>34523</td>\n",
       "      <td>10</td>\n",
       "      <td>1</td>\n",
       "      <td>33650</td>\n",
       "      <td>29409</td>\n",
       "    </tr>\n",
       "    <tr>\n",
       "      <th>top</th>\n",
       "      <td>0FOCFVI</td>\n",
       "      <td>Male</td>\n",
       "      <td>EN</td>\n",
       "      <td>2019-10-14 12:20:33</td>\n",
       "      <td>2019-10-01 18:50:31</td>\n",
       "    </tr>\n",
       "    <tr>\n",
       "      <th>freq</th>\n",
       "      <td>17</td>\n",
       "      <td>17815</td>\n",
       "      <td>21099</td>\n",
       "      <td>7</td>\n",
       "      <td>15</td>\n",
       "    </tr>\n",
       "  </tbody>\n",
       "</table>\n",
       "</div>"
      ],
      "text/plain": [
       "       akeed_customer_id gender language           created_at  \\\n",
       "count              34674  22520    21099                34674   \n",
       "unique             34523     10        1                33650   \n",
       "top              0FOCFVI   Male       EN  2019-10-14 12:20:33   \n",
       "freq                  17  17815    21099                    7   \n",
       "\n",
       "                 updated_at  \n",
       "count                 34674  \n",
       "unique                29409  \n",
       "top     2019-10-01 18:50:31  \n",
       "freq                     15  "
      ]
     },
     "execution_count": 16,
     "metadata": {},
     "output_type": "execute_result"
    }
   ],
   "source": [
    "train_customers.describe(include = 'object')"
   ]
  },
  {
   "cell_type": "markdown",
   "id": "46c22207-b31c-48f1-ac68-a204d27d91f1",
   "metadata": {},
   "source": [
    "#### Numerical Colums:  ####\n",
    "\n",
    "1. `dob` (Date of Birth):\n",
    "    - It has only 3046 entries out of 34674, indicating a high level of missing values(~91% missing). \n",
    "    - The standard deviation is quite high (48.42), which suggests there are some extreme values. \n",
    "    - The minimum value is 1 and maximum value is 2562, which clearly indicates some erroneous entries (birth years shiuld generally between 1900 and current year).\n",
    "\n",
    "2. `status`:\n",
    "    - Almost all accounts have a status of 1, with very few having a status of 0. This indicates that most accounts are likely active or in a certain confirmed state.\n",
    "\n",
    "3. `verified`:\n",
    "    - Most accounts are verified (0.96), with a mean very close to 1, and very few unverified accounts (std is 0.20).\n",
    "\n",
    "#### Categorical Columns: ####\n",
    "\n",
    "1. `akeed_customer_id`:\n",
    "     - Each customer is almost unique, with 34523 unique IDs out of 34674 entries.\n",
    "     - The most frequent ID (`0FOCFVI`) appears 17 times, which may indicate duplicate or test entries.\n",
    "     \n",
    "2. `gender`:\n",
    "     - There are 10 unique values for gender, but the most frequent gender is 'Male' (17815 out of 22520 entries with non-null gender).\n",
    "     - There are significant missing values in this column (12154 missing entries, ~35%).\n",
    "     \n",
    "3. `Language`:\n",
    "    - All non-null entries have the same value ('EN'), suggesting that language may not provide much variability for this dataset.\n",
    "\n",
    "4. `created_at` and `updated_at`:\n",
    "    - There are many unique timestamps for both columns, indicating that the account creation and update times are very detailed.\n",
    "    - The most frequent timestamps only appear a few times, which may correspond to batch processing times or system defaults."
   ]
  },
  {
   "cell_type": "code",
   "execution_count": 18,
   "id": "461bab04-0ece-46bb-99ac-cb9538b13dab",
   "metadata": {
    "tags": []
   },
   "outputs": [
    {
     "data": {
      "image/png": "[encoded data removed]",
      "text/plain": [
       "<Figure size 640x480 with 1 Axes>"
      ]
     },
     "metadata": {},
     "output_type": "display_data"
    }
   ],
   "source": [
    "# Gender distribution\n",
    "sns.countplot(x='gender', data=train_customers)\n",
    "plt.title('Gender Distribution')\n",
    "plt.show()"
   ]
  },
  {
   "cell_type": "code",
   "execution_count": 19,
   "id": "214d10cc-1fc2-4f11-9834-d26bb6d96543",
   "metadata": {
    "tags": []
   },
   "outputs": [
    {
     "data": {
      "text/plain": [
       "array(['Male', 'Female', 'Female  ', 'Female   ', 'Female    ', 'Male  ',\n",
       "       '  ', 'Female ', nan, '?????', 'male'], dtype=object)"
      ]
     },
     "execution_count": 19,
     "metadata": {},
     "output_type": "execute_result"
    }
   ],
   "source": [
    "train_customers['gender'].unique()"
   ]
  },
  {
   "cell_type": "markdown",
   "id": "9edb8255-0c2f-4c66-9ced-72f0f0127a15",
   "metadata": {},
   "source": [
    "There are lot of duplicate values so we will replace this values."
   ]
  },
  {
   "cell_type": "code",
   "execution_count": 21,
   "id": "a0eb4896-efdc-4d0a-b34b-732ce88b6da5",
   "metadata": {
    "tags": []
   },
   "outputs": [],
   "source": [
    "train_customers['gender'] = train_customers['gender'].replace({'Female  ' : 'Female', 'Female   ' : 'Female', 'Female    ' : 'Female', \n",
    "                                                               'Male  ' : 'Male', 'Female ' : 'Female', 'male' : 'Male', \n",
    "                                                               '?????': 'Unknown', '  ' : 'Unknown'}\n",
    "                                                             )"
   ]
  },
  {
   "cell_type": "code",
   "execution_count": 22,
   "id": "2d439c93-593b-4b82-8a0b-6297b505b966",
   "metadata": {
    "tags": []
   },
   "outputs": [
    {
     "data": {
      "image/png": "[encoded data removed]",
      "text/plain": [
       "<Figure size 640x480 with 1 Axes>"
      ]
     },
     "metadata": {},
     "output_type": "display_data"
    }
   ],
   "source": [
    "# Gender distribution\n",
    "sns.countplot(x='gender', data=train_customers)\n",
    "plt.title('Gender Distribution')\n",
    "plt.show()"
   ]
  },
  {
   "cell_type": "code",
   "execution_count": 23,
   "id": "bada4001-ada0-411a-8159-9120a9f29055",
   "metadata": {
    "tags": []
   },
   "outputs": [
    {
     "data": {
      "image/png": "[encoded data removed]",
      "text/plain": [
       "<Figure size 640x480 with 1 Axes>"
      ]
     },
     "metadata": {},
     "output_type": "display_data"
    },
    {
     "data": {
      "image/png": "[encoded data removed]",
      "text/plain": [
       "<Figure size 640x480 with 1 Axes>"
      ]
     },
     "metadata": {},
     "output_type": "display_data"
    }
   ],
   "source": [
    "# Account creation times\n",
    "train_customers['created_at'] = pd.to_datetime(train_customers['created_at'])\n",
    "train_customers['updated_at'] = pd.to_datetime(train_customers['updated_at'])\n",
    "train_customers['created_at'].hist(bins=30)\n",
    "plt.title('Account Creation Times')\n",
    "plt.show()\n",
    "\n",
    "train_customers['updated_at'].hist(bins=30)\n",
    "plt.title('Account Update Times')\n",
    "plt.show()"
   ]
  },
  {
   "cell_type": "markdown",
   "id": "a5c48749-dbc8-4d47-8382-d6a97f32d865",
   "metadata": {},
   "source": [
    "`Account Creation Times`:\n",
    "- There is a general upward trend in account creation, indicating growth in user base over time.\n",
    "- Peaks can be observed at specific intervals, which may correspond to marketing campaigns, promotions, or seasonal trends.\n",
    "- The highest peak appears in early 2020, suggesting a significant increase in new user registrations around this time.\n",
    "\n",
    "`Account Update Times`:\n",
    "- There are distinct peaks, especially towards the latter part of the timeline (early 2020).\n",
    "- The highest spike in account updates occurs in early 2020, which could correlate with the peak in account creations or an event that prompted users to update their accounts.\n",
    "- The frequent updates in certain periods suggest high user engagement or possibly system-wide updates prompting users to update their information."
   ]
  },
  {
   "cell_type": "markdown",
   "id": "c3257502-5396-48ed-b153-558b7937d125",
   "metadata": {},
   "source": [
    "### Data Preprocessing ###"
   ]
  },
  {
   "cell_type": "code",
   "execution_count": 26,
   "id": "04b0c28b-76b6-447e-8740-27c391e7e842",
   "metadata": {
    "tags": []
   },
   "outputs": [],
   "source": [
    "# Handling missing values\n",
    "train_customers['gender'].fillna('Unknown', inplace=True)\n",
    "train_customers['language'].fillna('EN', inplace=True)\n",
    "train_customers['dob'].fillna(-1, inplace=True)"
   ]
  },
  {
   "cell_type": "code",
   "execution_count": 27,
   "id": "30432718-1bfb-4efd-b660-81f3ad9f22a6",
   "metadata": {
    "tags": []
   },
   "outputs": [],
   "source": [
    "# Removing erroneous `dob` entries\n",
    "train_customers = train_customers[(train_customers['dob'] > 1900) & (train_customers['dob'] <= pd.Timestamp.now().year)]"
   ]
  },
  {
   "cell_type": "code",
   "execution_count": 28,
   "id": "7baef678-6be4-49ce-bd06-ebe53daa592d",
   "metadata": {
    "tags": []
   },
   "outputs": [],
   "source": [
    "# Encoding categorical variables\n",
    "train_customers['gender'] = train_customers['gender'].astype('category').cat.codes\n",
    "train_customers['language'] = train_customers['language'].astype('category').cat.codes"
   ]
  },
  {
   "cell_type": "code",
   "execution_count": 29,
   "id": "460d2bcd-32c2-4556-a5ff-d1ddf52273a5",
   "metadata": {
    "tags": []
   },
   "outputs": [],
   "source": [
    "# Feature engineering: Age\n",
    "current_year = pd.Timestamp.now().year\n",
    "train_customers['age'] = current_year - train_customers['dob'].astype(int)\n",
    "train_customers.loc[train_customers['dob'] == -1, 'age'] = -1  # Preserve missing DOB as -1"
   ]
  },
  {
   "cell_type": "code",
   "execution_count": 30,
   "id": "d874890f-da94-4f6d-937f-3742af8d7349",
   "metadata": {
    "tags": []
   },
   "outputs": [],
   "source": [
    "# Convert created_at and updated_at to datetime\n",
    "train_customers['created_at'] = pd.to_datetime(train_customers['created_at'])\n",
    "train_customers['updated_at'] = pd.to_datetime(train_customers['updated_at'])"
   ]
  },
  {
   "cell_type": "markdown",
   "id": "deddbcee-da34-470b-9200-35b934573a75",
   "metadata": {},
   "source": [
    "### Preparing Data for Recommendation Sytem ###"
   ]
  },
  {
   "cell_type": "code",
   "execution_count": 32,
   "id": "150e4a6c-6e63-4e48-89df-189db05b3395",
   "metadata": {
    "tags": []
   },
   "outputs": [],
   "source": [
    "#load another dataset\n",
    "train_locations = pd.read_csv('train_locations.csv')\n",
    "train_orders = pd.read_csv('orders.csv', low_memory=False)"
   ]
  },
  {
   "cell_type": "code",
   "execution_count": 33,
   "id": "4f936d65-bb82-4e0e-96df-0a491f3d6e12",
   "metadata": {
    "tags": []
   },
   "outputs": [],
   "source": [
    "# Merging datasets\n",
    "data = train_orders.merge(train_customers, left_on = 'customer_id', right_on='akeed_customer_id')\n",
    "data = data.rename(columns={'LOCATION_NUMBER': 'location_number'})\n",
    "data = data.merge(train_locations, on=['customer_id', 'location_number'])"
   ]
  },
  {
   "cell_type": "code",
   "execution_count": 34,
   "id": "dd3ffd00-02c8-447b-a806-279fe31a72b9",
   "metadata": {
    "tags": []
   },
   "outputs": [],
   "source": [
    "data = data.merge(vendors, left_on='vendor_id', right_on='id')"
   ]
  },
  {
   "cell_type": "code",
   "execution_count": 35,
   "id": "b3b2d0be-5bc8-4e17-ba26-060430ea7f04",
   "metadata": {
    "tags": []
   },
   "outputs": [
    {
     "data": {
      "text/plain": [
       "Index(['akeed_order_id', 'customer_id', 'item_count', 'grand_total',\n",
       "       'payment_mode', 'promo_code', 'vendor_discount_amount',\n",
       "       'promo_code_discount_percentage', 'is_favorite', 'is_rated',\n",
       "       'vendor_rating_x', 'driver_rating', 'deliverydistance',\n",
       "       'preparationtime', 'delivery_time', 'order_accepted_time',\n",
       "       'driver_accepted_time', 'ready_for_pickup_time', 'picked_up_time',\n",
       "       'delivered_time', 'delivery_date', 'vendor_id', 'created_at_x',\n",
       "       'location_number', 'LOCATION_TYPE', 'CID X LOC_NUM X VENDOR',\n",
       "       'akeed_customer_id', 'gender', 'dob', 'status_x', 'verified_x',\n",
       "       'language_x', 'created_at_y', 'updated_at_x', 'age', 'location_type',\n",
       "       'latitude_x', 'longitude_x', 'id', 'authentication_id', 'latitude_y',\n",
       "       'longitude_y', 'vendor_category_en', 'vendor_category_id',\n",
       "       'delivery_charge', 'serving_distance', 'is_open', 'OpeningTime',\n",
       "       'OpeningTime2', 'prepration_time', 'commission', 'is_akeed_delivering',\n",
       "       'discount_percentage', 'status_y', 'verified_y', 'rank', 'language_y',\n",
       "       'vendor_rating_y', 'sunday_from_time1', 'sunday_to_time1',\n",
       "       'sunday_from_time2', 'sunday_to_time2', 'monday_from_time1',\n",
       "       'monday_to_time1', 'monday_from_time2', 'monday_to_time2',\n",
       "       'tuesday_from_time1', 'tuesday_to_time1', 'tuesday_from_time2',\n",
       "       'tuesday_to_time2', 'wednesday_from_time1', 'wednesday_to_time1',\n",
       "       'wednesday_from_time2', 'wednesday_to_time2', 'thursday_from_time1',\n",
       "       'thursday_to_time1', 'thursday_from_time2', 'thursday_to_time2',\n",
       "       'friday_from_time1', 'friday_to_time1', 'friday_from_time2',\n",
       "       'friday_to_time2', 'saturday_from_time1', 'saturday_to_time1',\n",
       "       'saturday_from_time2', 'saturday_to_time2', 'primary_tags',\n",
       "       'open_close_flags', 'vendor_tag', 'vendor_tag_name', 'one_click_vendor',\n",
       "       'country_id', 'city_id', 'created_at', 'updated_at_y', 'device_type',\n",
       "       'display_orders'],\n",
       "      dtype='object')"
      ]
     },
     "execution_count": 35,
     "metadata": {},
     "output_type": "execute_result"
    }
   ],
   "source": [
    "data.columns"
   ]
  },
  {
   "cell_type": "code",
   "execution_count": 36,
   "id": "e88e2da8-1911-47cd-9d52-c6cf5fd22159",
   "metadata": {},
   "outputs": [
    {
     "data": {
      "text/html": [
       "<div>\n",
       "<style scoped>\n",
       "    .dataframe tbody tr th:only-of-type {\n",
       "        vertical-align: middle;\n",
       "    }\n",
       "\n",
       "    .dataframe tbody tr th {\n",
       "        vertical-align: top;\n",
       "    }\n",
       "\n",
       "    .dataframe thead th {\n",
       "        text-align: right;\n",
       "    }\n",
       "</style>\n",
       "<table border=\"1\" class=\"dataframe\">\n",
       "  <thead>\n",
       "    <tr style=\"text-align: right;\">\n",
       "      <th></th>\n",
       "      <th>akeed_order_id</th>\n",
       "      <th>customer_id</th>\n",
       "      <th>item_count</th>\n",
       "      <th>grand_total</th>\n",
       "      <th>payment_mode</th>\n",
       "      <th>promo_code</th>\n",
       "      <th>vendor_discount_amount</th>\n",
       "      <th>promo_code_discount_percentage</th>\n",
       "      <th>is_favorite</th>\n",
       "      <th>is_rated</th>\n",
       "      <th>...</th>\n",
       "      <th>open_close_flags</th>\n",
       "      <th>vendor_tag</th>\n",
       "      <th>vendor_tag_name</th>\n",
       "      <th>one_click_vendor</th>\n",
       "      <th>country_id</th>\n",
       "      <th>city_id</th>\n",
       "      <th>created_at</th>\n",
       "      <th>updated_at_y</th>\n",
       "      <th>device_type</th>\n",
       "      <th>display_orders</th>\n",
       "    </tr>\n",
       "  </thead>\n",
       "  <tbody>\n",
       "    <tr>\n",
       "      <th>0</th>\n",
       "      <td>163274.0</td>\n",
       "      <td>IU4IHX1</td>\n",
       "      <td>1.0</td>\n",
       "      <td>5.7</td>\n",
       "      <td>1</td>\n",
       "      <td>NaN</td>\n",
       "      <td>0.0</td>\n",
       "      <td>NaN</td>\n",
       "      <td>NaN</td>\n",
       "      <td>No</td>\n",
       "      <td>...</td>\n",
       "      <td>1.0</td>\n",
       "      <td>5,30,22,47,52,16,56</td>\n",
       "      <td>Burgers,Fries,Grills,Mishkak,Mojitos ,Sandwich...</td>\n",
       "      <td>Y</td>\n",
       "      <td>1.0</td>\n",
       "      <td>1.0</td>\n",
       "      <td>2019-03-10 13:05:09</td>\n",
       "      <td>2020-04-03 14:43:26</td>\n",
       "      <td>3</td>\n",
       "      <td>1</td>\n",
       "    </tr>\n",
       "    <tr>\n",
       "      <th>1</th>\n",
       "      <td>145211.0</td>\n",
       "      <td>IU4IHX1</td>\n",
       "      <td>2.0</td>\n",
       "      <td>8.4</td>\n",
       "      <td>1</td>\n",
       "      <td>NaN</td>\n",
       "      <td>0.0</td>\n",
       "      <td>NaN</td>\n",
       "      <td>NaN</td>\n",
       "      <td>No</td>\n",
       "      <td>...</td>\n",
       "      <td>1.0</td>\n",
       "      <td>5,30,22,47,52,16,56</td>\n",
       "      <td>Burgers,Fries,Grills,Mishkak,Mojitos ,Sandwich...</td>\n",
       "      <td>Y</td>\n",
       "      <td>1.0</td>\n",
       "      <td>1.0</td>\n",
       "      <td>2019-03-10 13:05:09</td>\n",
       "      <td>2020-04-03 14:43:26</td>\n",
       "      <td>3</td>\n",
       "      <td>1</td>\n",
       "    </tr>\n",
       "    <tr>\n",
       "      <th>2</th>\n",
       "      <td>152530.0</td>\n",
       "      <td>IU4IHX1</td>\n",
       "      <td>1.0</td>\n",
       "      <td>3.8</td>\n",
       "      <td>1</td>\n",
       "      <td>NaN</td>\n",
       "      <td>0.0</td>\n",
       "      <td>NaN</td>\n",
       "      <td>NaN</td>\n",
       "      <td>No</td>\n",
       "      <td>...</td>\n",
       "      <td>1.0</td>\n",
       "      <td>5,30,22,47,52,16,56</td>\n",
       "      <td>Burgers,Fries,Grills,Mishkak,Mojitos ,Sandwich...</td>\n",
       "      <td>Y</td>\n",
       "      <td>1.0</td>\n",
       "      <td>1.0</td>\n",
       "      <td>2019-03-10 13:05:09</td>\n",
       "      <td>2020-04-03 14:43:26</td>\n",
       "      <td>3</td>\n",
       "      <td>1</td>\n",
       "    </tr>\n",
       "    <tr>\n",
       "      <th>3</th>\n",
       "      <td>154425.0</td>\n",
       "      <td>IU4IHX1</td>\n",
       "      <td>1.0</td>\n",
       "      <td>7.6</td>\n",
       "      <td>1</td>\n",
       "      <td>NaN</td>\n",
       "      <td>0.0</td>\n",
       "      <td>NaN</td>\n",
       "      <td>NaN</td>\n",
       "      <td>No</td>\n",
       "      <td>...</td>\n",
       "      <td>1.0</td>\n",
       "      <td>5,30,22,47,52,16,56</td>\n",
       "      <td>Burgers,Fries,Grills,Mishkak,Mojitos ,Sandwich...</td>\n",
       "      <td>Y</td>\n",
       "      <td>1.0</td>\n",
       "      <td>1.0</td>\n",
       "      <td>2019-03-10 13:05:09</td>\n",
       "      <td>2020-04-03 14:43:26</td>\n",
       "      <td>3</td>\n",
       "      <td>1</td>\n",
       "    </tr>\n",
       "    <tr>\n",
       "      <th>4</th>\n",
       "      <td>152317.0</td>\n",
       "      <td>NYDQ8RO</td>\n",
       "      <td>4.0</td>\n",
       "      <td>6.3</td>\n",
       "      <td>1</td>\n",
       "      <td>NaN</td>\n",
       "      <td>0.0</td>\n",
       "      <td>NaN</td>\n",
       "      <td>NaN</td>\n",
       "      <td>No</td>\n",
       "      <td>...</td>\n",
       "      <td>1.0</td>\n",
       "      <td>5,30,22,47,52,16,56</td>\n",
       "      <td>Burgers,Fries,Grills,Mishkak,Mojitos ,Sandwich...</td>\n",
       "      <td>Y</td>\n",
       "      <td>1.0</td>\n",
       "      <td>1.0</td>\n",
       "      <td>2019-03-10 13:05:09</td>\n",
       "      <td>2020-04-03 14:43:26</td>\n",
       "      <td>3</td>\n",
       "      <td>1</td>\n",
       "    </tr>\n",
       "  </tbody>\n",
       "</table>\n",
       "<p>5 rows × 97 columns</p>\n",
       "</div>"
      ],
      "text/plain": [
       "   akeed_order_id customer_id  item_count  grand_total  payment_mode  \\\n",
       "0        163274.0     IU4IHX1         1.0          5.7             1   \n",
       "1        145211.0     IU4IHX1         2.0          8.4             1   \n",
       "2        152530.0     IU4IHX1         1.0          3.8             1   \n",
       "3        154425.0     IU4IHX1         1.0          7.6             1   \n",
       "4        152317.0     NYDQ8RO         4.0          6.3             1   \n",
       "\n",
       "  promo_code  vendor_discount_amount  promo_code_discount_percentage  \\\n",
       "0        NaN                     0.0                             NaN   \n",
       "1        NaN                     0.0                             NaN   \n",
       "2        NaN                     0.0                             NaN   \n",
       "3        NaN                     0.0                             NaN   \n",
       "4        NaN                     0.0                             NaN   \n",
       "\n",
       "  is_favorite is_rated  ...  open_close_flags           vendor_tag  \\\n",
       "0         NaN       No  ...               1.0  5,30,22,47,52,16,56   \n",
       "1         NaN       No  ...               1.0  5,30,22,47,52,16,56   \n",
       "2         NaN       No  ...               1.0  5,30,22,47,52,16,56   \n",
       "3         NaN       No  ...               1.0  5,30,22,47,52,16,56   \n",
       "4         NaN       No  ...               1.0  5,30,22,47,52,16,56   \n",
       "\n",
       "                                     vendor_tag_name  one_click_vendor  \\\n",
       "0  Burgers,Fries,Grills,Mishkak,Mojitos ,Sandwich...                 Y   \n",
       "1  Burgers,Fries,Grills,Mishkak,Mojitos ,Sandwich...                 Y   \n",
       "2  Burgers,Fries,Grills,Mishkak,Mojitos ,Sandwich...                 Y   \n",
       "3  Burgers,Fries,Grills,Mishkak,Mojitos ,Sandwich...                 Y   \n",
       "4  Burgers,Fries,Grills,Mishkak,Mojitos ,Sandwich...                 Y   \n",
       "\n",
       "  country_id city_id           created_at         updated_at_y device_type  \\\n",
       "0        1.0     1.0  2019-03-10 13:05:09  2020-04-03 14:43:26           3   \n",
       "1        1.0     1.0  2019-03-10 13:05:09  2020-04-03 14:43:26           3   \n",
       "2        1.0     1.0  2019-03-10 13:05:09  2020-04-03 14:43:26           3   \n",
       "3        1.0     1.0  2019-03-10 13:05:09  2020-04-03 14:43:26           3   \n",
       "4        1.0     1.0  2019-03-10 13:05:09  2020-04-03 14:43:26           3   \n",
       "\n",
       "  display_orders  \n",
       "0              1  \n",
       "1              1  \n",
       "2              1  \n",
       "3              1  \n",
       "4              1  \n",
       "\n",
       "[5 rows x 97 columns]"
      ]
     },
     "execution_count": 36,
     "metadata": {},
     "output_type": "execute_result"
    }
   ],
   "source": [
    "# Select relevant features\n",
    "features = [\n",
    "    'customer_id', 'gender', 'age', 'location_number',\n",
    "    'vendor_id', 'vendor_category_en', 'vendor_rating_y', 'vendor_tag_name',\n",
    "    'item_count', 'grand_total', 'payment_mode', 'deliverydistance',\n",
    "    'preparationtime', 'delivery_time', 'is_favorite', 'is_rated',\n",
    "    'driver_rating', 'delivery_date', 'created_at'\n",
    "]\n",
    "\n",
    "# Checking the final data\n",
    "data.head()"
   ]
  },
  {
   "cell_type": "code",
   "execution_count": 37,
   "id": "09901520-ba3b-4c05-b564-8dd676714fa0",
   "metadata": {
    "tags": []
   },
   "outputs": [
    {
     "name": "stdout",
     "output_type": "stream",
     "text": [
      "<class 'pandas.core.frame.DataFrame'>\n",
      "RangeIndex: 11844 entries, 0 to 11843\n",
      "Data columns (total 97 columns):\n",
      " #   Column                          Non-Null Count  Dtype         \n",
      "---  ------                          --------------  -----         \n",
      " 0   akeed_order_id                  11836 non-null  float64       \n",
      " 1   customer_id                     11844 non-null  object        \n",
      " 2   item_count                      11183 non-null  float64       \n",
      " 3   grand_total                     11844 non-null  float64       \n",
      " 4   payment_mode                    11844 non-null  int64         \n",
      " 5   promo_code                      401 non-null    object        \n",
      " 6   vendor_discount_amount          11844 non-null  float64       \n",
      " 7   promo_code_discount_percentage  5521 non-null   float64       \n",
      " 8   is_favorite                     8567 non-null   object        \n",
      " 9   is_rated                        11844 non-null  object        \n",
      " 10  vendor_rating_x                 3971 non-null   float64       \n",
      " 11  driver_rating                   11844 non-null  float64       \n",
      " 12  deliverydistance                11844 non-null  float64       \n",
      " 13  preparationtime                 6756 non-null   float64       \n",
      " 14  delivery_time                   472 non-null    object        \n",
      " 15  order_accepted_time             7337 non-null   object        \n",
      " 16  driver_accepted_time            3902 non-null   object        \n",
      " 17  ready_for_pickup_time           7144 non-null   object        \n",
      " 18  picked_up_time                  7094 non-null   object        \n",
      " 19  delivered_time                  7242 non-null   object        \n",
      " 20  delivery_date                   3307 non-null   object        \n",
      " 21  vendor_id                       11844 non-null  int64         \n",
      " 22  created_at_x                    11844 non-null  object        \n",
      " 23  location_number                 11844 non-null  int64         \n",
      " 24  LOCATION_TYPE                   7308 non-null   object        \n",
      " 25  CID X LOC_NUM X VENDOR          11844 non-null  object        \n",
      " 26  akeed_customer_id               11844 non-null  object        \n",
      " 27  gender                          11844 non-null  int8          \n",
      " 28  dob                             11844 non-null  float64       \n",
      " 29  status_x                        11844 non-null  int64         \n",
      " 30  verified_x                      11844 non-null  int64         \n",
      " 31  language_x                      11844 non-null  int8          \n",
      " 32  created_at_y                    11844 non-null  datetime64[ns]\n",
      " 33  updated_at_x                    11844 non-null  datetime64[ns]\n",
      " 34  age                             11844 non-null  int64         \n",
      " 35  location_type                   5657 non-null   object        \n",
      " 36  latitude_x                      11844 non-null  float64       \n",
      " 37  longitude_x                     11844 non-null  float64       \n",
      " 38  id                              11844 non-null  int64         \n",
      " 39  authentication_id               11844 non-null  float64       \n",
      " 40  latitude_y                      11844 non-null  float64       \n",
      " 41  longitude_y                     11844 non-null  float64       \n",
      " 42  vendor_category_en              11844 non-null  object        \n",
      " 43  vendor_category_id              11844 non-null  float64       \n",
      " 44  delivery_charge                 11844 non-null  float64       \n",
      " 45  serving_distance                11844 non-null  float64       \n",
      " 46  is_open                         11844 non-null  float64       \n",
      " 47  OpeningTime                     11844 non-null  object        \n",
      " 48  OpeningTime2                    11129 non-null  object        \n",
      " 49  prepration_time                 11844 non-null  int64         \n",
      " 50  commission                      10577 non-null  float64       \n",
      " 51  is_akeed_delivering             11844 non-null  object        \n",
      " 52  discount_percentage             11844 non-null  float64       \n",
      " 53  status_y                        11844 non-null  float64       \n",
      " 54  verified_y                      11844 non-null  int64         \n",
      " 55  rank                            11844 non-null  int64         \n",
      " 56  language_y                      10577 non-null  object        \n",
      " 57  vendor_rating_y                 11844 non-null  float64       \n",
      " 58  sunday_from_time1               11790 non-null  object        \n",
      " 59  sunday_to_time1                 11790 non-null  object        \n",
      " 60  sunday_from_time2               4765 non-null   object        \n",
      " 61  sunday_to_time2                 4765 non-null   object        \n",
      " 62  monday_from_time1               11844 non-null  object        \n",
      " 63  monday_to_time1                 11844 non-null  object        \n",
      " 64  monday_from_time2               4765 non-null   object        \n",
      " 65  monday_to_time2                 4765 non-null   object        \n",
      " 66  tuesday_from_time1              11790 non-null  object        \n",
      " 67  tuesday_to_time1                11790 non-null  object        \n",
      " 68  tuesday_from_time2              4716 non-null   object        \n",
      " 69  tuesday_to_time2                4716 non-null   object        \n",
      " 70  wednesday_from_time1            11844 non-null  object        \n",
      " 71  wednesday_to_time1              11844 non-null  object        \n",
      " 72  wednesday_from_time2            4770 non-null   object        \n",
      " 73  wednesday_to_time2              4770 non-null   object        \n",
      " 74  thursday_from_time1             11790 non-null  object        \n",
      " 75  thursday_to_time1               11790 non-null  object        \n",
      " 76  thursday_from_time2             4765 non-null   object        \n",
      " 77  thursday_to_time2               4765 non-null   object        \n",
      " 78  friday_from_time1               11593 non-null  object        \n",
      " 79  friday_to_time1                 11593 non-null  object        \n",
      " 80  friday_from_time2               5000 non-null   object        \n",
      " 81  friday_to_time2                 5000 non-null   object        \n",
      " 82  saturday_from_time1             11715 non-null  object        \n",
      " 83  saturday_to_time1               11715 non-null  object        \n",
      " 84  saturday_from_time2             5115 non-null   object        \n",
      " 85  saturday_to_time2               5115 non-null   object        \n",
      " 86  primary_tags                    9321 non-null   object        \n",
      " 87  open_close_flags                11844 non-null  float64       \n",
      " 88  vendor_tag                      11654 non-null  object        \n",
      " 89  vendor_tag_name                 11654 non-null  object        \n",
      " 90  one_click_vendor                11844 non-null  object        \n",
      " 91  country_id                      11844 non-null  float64       \n",
      " 92  city_id                         11844 non-null  float64       \n",
      " 93  created_at                      11844 non-null  object        \n",
      " 94  updated_at_y                    11844 non-null  object        \n",
      " 95  device_type                     11844 non-null  int64         \n",
      " 96  display_orders                  11844 non-null  int64         \n",
      "dtypes: datetime64[ns](2), float64(26), int64(12), int8(2), object(55)\n",
      "memory usage: 8.6+ MB\n"
     ]
    }
   ],
   "source": [
    "data.info()"
   ]
  },
  {
   "cell_type": "code",
   "execution_count": 38,
   "id": "20408e72-46d0-4898-b5f2-77925a107b80",
   "metadata": {
    "tags": []
   },
   "outputs": [
    {
     "name": "stderr",
     "output_type": "stream",
     "text": [
      "/opt/anaconda3/lib/python3.11/site-packages/seaborn/matrix.py:260: FutureWarning: Format strings passed to MaskedConstant are ignored, but in future may error or produce different behavior\n",
      "  annotation = (\"{:\" + self.fmt + \"}\").format(val)\n"
     ]
    },
    {
     "data": {
      "image/png": "[encoded data removed]",
      "text/plain": [
       "<Figure size 1400x1000 with 2 Axes>"
      ]
     },
     "metadata": {},
     "output_type": "display_data"
    }
   ],
   "source": [
    "# Filter only numeric columns\n",
    "numeric_data = data.select_dtypes(include=[np.number])\n",
    "\n",
    "# Check if there are non-numeric columns that should be numeric and convert them\n",
    "# For example, if 'vendor_rating_y' should be numeric but is stored as a string\n",
    "if 'vendor_rating_y' in data.columns:\n",
    "    data['vendor_rating_y'] = pd.to_numeric(data['vendor_rating_y'], errors='coerce')\n",
    "\n",
    "# Re-filter numeric columns after conversion\n",
    "numeric_data = data.select_dtypes(include=[np.number])\n",
    "\n",
    "# Compute correlation matrix\n",
    "corr_matrix = numeric_data.corr()\n",
    "\n",
    "# Plot correlation matrix\n",
    "plt.figure(figsize=(14, 10))\n",
    "sns.heatmap(corr_matrix, annot=True, cmap='coolwarm')\n",
    "plt.title('Correlation Matrix')\n",
    "plt.show()"
   ]
  },
  {
   "cell_type": "markdown",
   "id": "700e07ef-fc61-4048-b2a6-7734c82246ce",
   "metadata": {},
   "source": [
    "Here are some observations:\n",
    "- The correlation matrix is mostly filled with low correlations. This suggests that the features in the dataset are not strongly correlated with each other.\n",
    "- There is a strong positive correlation between `grand_total` and `item_count`, which is expected.\n",
    "- There is a strong negative correlation between `akeed_order_id` and `verified_x`. This suggests that customers who have not verified their accounts are less likely to place orders.\n",
    "- There is a moderate positive correlation between `vendor_rating_x` and `vendor_rating_y`. This suggests that vendors who are rated highly by customers are also more likely to be rated highly by other vendors.\n",
    "\n",
    "Overall, the correlation matrix provides a useful overview of the relationships between the features in the dataset. It can be used to identify potential problems with the data, such as multicollinearity, and to guide feature selection for machine learning models."
   ]
  },
  {
   "cell_type": "markdown",
   "id": "e07a4066-fbaf-42eb-9455-e6459ea68b1c",
   "metadata": {},
   "source": [
    "## Feature Selection ##\n",
    "To build a recommendation system, here are some features that we can consider using:\n",
    "- `grand_total`\n",
    "- `item_count`\n",
    "- `akeed_order_id`\n",
    "- `verified_x`\n",
    "- `vendor_rating_x`\n",
    "- `vendor_rating_y`"
   ]
  },
  {
   "cell_type": "code",
   "execution_count": 41,
   "id": "de75729a-22ea-4a29-a7fa-5b037d573701",
   "metadata": {
    "tags": []
   },
   "outputs": [],
   "source": [
    "# Convert vendor_tag_name to lowercase\n",
    "data['vendor_tag_name'] = data['vendor_tag_name'].str.lower()"
   ]
  },
  {
   "cell_type": "markdown",
   "id": "514331bc-5fd2-4403-baef-b5ad41007a31",
   "metadata": {},
   "source": [
    "## Building Recommendation System ##\n",
    "We will use Collaborative Filtering using Singular Value Decomposition (SVD) and Content Based Filtering using TF-IDF vectorization and cosine similarity to build recommendation system."
   ]
  },
  {
   "cell_type": "code",
   "execution_count": 43,
   "id": "702961e3-db53-4806-bf43-2f992c6db6d1",
   "metadata": {},
   "outputs": [],
   "source": [
    "from sklearn.feature_extraction.text import TfidfVectorizer\n",
    "from sklearn.metrics.pairwise import linear_kernel\n",
    "from sklearn.model_selection import train_test_split"
   ]
  },
  {
   "cell_type": "code",
   "execution_count": 44,
   "id": "380b9d2e-2208-4b95-a22a-f43e33d0b756",
   "metadata": {
    "tags": []
   },
   "outputs": [
    {
     "name": "stdout",
     "output_type": "stream",
     "text": [
      "Collaborative Filtering RMSE: 0.05518145882979445\n",
      "Collaborative Filtering MAE: 0.03780511787698092\n",
      "Collaborative Filtering - Precision: 0.9773065476190477, Recall: 0.9677117140926883, F1 Score: 0.9724854650548288\n"
     ]
    }
   ],
   "source": [
    "from surprise import Dataset, Reader, SVD\n",
    "from surprise.model_selection import train_test_split as surprise_train_test_split\n",
    "from sklearn.metrics import mean_squared_error, mean_absolute_error\n",
    "\n",
    "# Assuming 'data' is your DataFrame\n",
    "# Prepare the ratings data\n",
    "ratings_data = data[['customer_id', 'vendor_id', 'vendor_rating_y']].rename(columns={\n",
    "    'customer_id': 'userID',\n",
    "    'vendor_id': 'itemID',\n",
    "    'vendor_rating_y': 'rating'\n",
    "})\n",
    "\n",
    "# Define the reader with the appropriate rating scale\n",
    "reader = Reader(rating_scale=(0, 5))\n",
    "\n",
    "# Load ratings data into Surprise Dataset\n",
    "ratings_dataset = Dataset.load_from_df(ratings_data, reader)\n",
    "\n",
    "# Split Surprise Dataset into train and test sets\n",
    "trainset, testset = surprise_train_test_split(ratings_dataset, test_size=0.2, random_state=42)\n",
    "\n",
    "# Train SVD model for collaborative filtering\n",
    "svd = SVD()\n",
    "svd.fit(trainset)\n",
    "\n",
    "# Predict ratings for test set\n",
    "predictions = svd.test(testset)\n",
    "\n",
    "# Calculate RMSE and MAE\n",
    "rmse = np.sqrt(mean_squared_error([pred.r_ui for pred in predictions], [pred.est for pred in predictions]))\n",
    "mae = mean_absolute_error([pred.r_ui for pred in predictions], [pred.est for pred in predictions])\n",
    "print(f\"Collaborative Filtering RMSE: {rmse}\")\n",
    "print(f\"Collaborative Filtering MAE: {mae}\")\n",
    "\n",
    "# Function to evaluate collaborative filtering model\n",
    "def evaluate_collaborative_filtering(predictions, k=10):\n",
    "    def precision_recall_at_k(predictions, k, threshold=4.0):\n",
    "        user_est_true = {}\n",
    "        for pred in predictions:\n",
    "            user_est_true.setdefault(pred.uid, []).append((pred.est, pred.r_ui))\n",
    "        \n",
    "        precisions = []\n",
    "        recalls = []\n",
    "        for uid, user_ratings in user_est_true.items():\n",
    "            user_ratings.sort(key=lambda x: x[0], reverse=True)\n",
    "            n_rel = sum((true_r >= threshold) for (_, true_r) in user_ratings)\n",
    "            n_rec_k = sum((est >= threshold) for (est, _) in user_ratings[:k])\n",
    "            n_rel_and_rec_k = sum(((true_r >= threshold) and (est >= threshold)) for (est, true_r) in user_ratings[:k])\n",
    "            \n",
    "            precisions.append(n_rel_and_rec_k / n_rec_k if n_rec_k != 0 else 0)\n",
    "            recalls.append(n_rel_and_rec_k / n_rel if n_rel != 0 else 0)\n",
    "        \n",
    "        precision = sum(precisions) / len(precisions)\n",
    "        recall = sum(recalls) / len(recalls)\n",
    "        return precision, recall\n",
    "    \n",
    "    precision, recall = precision_recall_at_k(predictions, k)\n",
    "    f1 = 2 * (precision * recall) / (precision + recall) if precision + recall > 0 else 0\n",
    "    return precision, recall, f1\n",
    "\n",
    "# Evaluate collaborative filtering model\n",
    "precision_cf, recall_cf, f1_cf = evaluate_collaborative_filtering(predictions)\n",
    "print(f\"Collaborative Filtering - Precision: {precision_cf}, Recall: {recall_cf}, F1 Score: {f1_cf}\")"
   ]
  },
  {
   "cell_type": "markdown",
   "id": "36e07a47-12af-4de8-8688-fbb7a0941fb3",
   "metadata": {},
   "source": [
    "The collaborative filtering model achieved an RMSE of approximately 0.0562 and an MAE of approximately 0.0380. These values indicate that the model's predictions are relatively close to the actual ratings in the test set. Lower values of RMSE and MAE generally suggest better performance, but the interpretation can vary depending on the scale and context of the ratings."
   ]
  },
  {
   "cell_type": "code",
   "execution_count": 46,
   "id": "6913d5c7-3e6f-4f62-a79c-7b71cf938d2e",
   "metadata": {
    "tags": []
   },
   "outputs": [
    {
     "name": "stdout",
     "output_type": "stream",
     "text": [
      "Collaborative Filtering Recommendations for User ID 123\n",
      "[310, 115, 79, 113, 13, 303, 216, 295, 85, 298]\n"
     ]
    }
   ],
   "source": [
    "# Function to get recommendations for a given user ID\n",
    "def get_recommendation(user_id, model, data, n_recommendations=10):\n",
    "    # Get the list of all item IDs\n",
    "    item_ids = data['itemID'].unique()\n",
    "    \n",
    "    # Predict ratings for all items the user has not yet rated\n",
    "    predictions = [model.predict(user_id, item_id) for item_id in item_ids]\n",
    "    \n",
    "    # Filter out items already rated by the user\n",
    "    user_rated_items = set(data[data['userID'] == user_id]['itemID'])\n",
    "    predictions = [pred for pred in predictions if pred.iid not in user_rated_items]\n",
    "    \n",
    "    # Sort the predictions by estimated rating in descending order\n",
    "    predictions.sort(key=lambda x: x.est, reverse=True)\n",
    "    \n",
    "    # Get the top N recommendations\n",
    "    top_n_recommendations = predictions[:n_recommendations]\n",
    "    \n",
    "    # Return the list of recommended item IDs\n",
    "    return [pred.iid for pred in top_n_recommendations]\n",
    "\n",
    "# Example usage\n",
    "user_id = 123  # Replace with a valid user ID from your data\n",
    "recommendations = get_recommendation(user_id, svd, ratings_data, n_recommendations=10)\n",
    "print(\"Collaborative Filtering Recommendations for User ID\", user_id)\n",
    "print(recommendations)"
   ]
  },
  {
   "cell_type": "code",
   "execution_count": 47,
   "id": "c3259af0-facb-494a-b6a9-362f0ef2bdf5",
   "metadata": {
    "tags": []
   },
   "outputs": [
    {
     "name": "stdout",
     "output_type": "stream",
     "text": [
      "Content-Based Filtering Recommendations:\n",
      "9647    28\n",
      "9648    28\n",
      "9649    28\n",
      "9650    28\n",
      "9651    28\n",
      "9652    28\n",
      "9653    28\n",
      "9654    28\n",
      "9655    28\n",
      "9656    28\n",
      "Name: vendor_id, dtype: int64\n"
     ]
    }
   ],
   "source": [
    "from sklearn.feature_extraction.text import TfidfVectorizer\n",
    "from sklearn.metrics.pairwise import linear_kernel\n",
    "\n",
    "# TF-IDF Vectorization\n",
    "tfidf_vectorizer = TfidfVectorizer(stop_words='english')\n",
    "tfidf_matrix = tfidf_vectorizer.fit_transform(data['vendor_tag_name'].fillna(''))\n",
    "\n",
    "# Compute cosine similarity\n",
    "cosine_sim = linear_kernel(tfidf_matrix, tfidf_matrix)\n",
    "\n",
    "# Function to get recommendations based on restaurant ID\n",
    "def get_recommendations(restaurant_id, cosine_sim=cosine_sim):\n",
    "    idx = data[data['vendor_id'] == restaurant_id].index\n",
    "    if len(idx) == 0:\n",
    "        print(\"No restaurant found with the specified ID.\")\n",
    "        return None\n",
    "    idx = idx[0]\n",
    "    sim_scores = list(enumerate(cosine_sim[idx]))\n",
    "    sim_scores = sorted(sim_scores, key=lambda x: x[1], reverse=True)\n",
    "    sim_scores = sim_scores[1:11]  # Exclude the first (most similar) item, which is the restaurant itself\n",
    "    restaurant_indices = [i[0] for i in sim_scores]\n",
    "    return data.iloc[restaurant_indices]['vendor_id']\n",
    "\n",
    "# Example recommendation\n",
    "recommendations = get_recommendations(28)\n",
    "if recommendations is not None:\n",
    "    print(\"Content-Based Filtering Recommendations:\")\n",
    "    print(recommendations)"
   ]
  },
  {
   "cell_type": "code",
   "execution_count": 48,
   "id": "460a1d1a-237a-4abb-aa30-4702767a307d",
   "metadata": {
    "tags": []
   },
   "outputs": [],
   "source": [
    "# Function to evaluate precision, recall, and F1 score for content-based filtering\n",
    "def evaluate_content_based_filtering(test_data, k=10):\n",
    "    precision_scores = []\n",
    "    recall_scores = []\n",
    "    f1_scores = []\n",
    "    for _, row in test_data.iterrows():\n",
    "        vendor_id = row['vendor_id']\n",
    "        recommended_items = get_recommendations(vendor_id)\n",
    "        if recommended_items is not None:\n",
    "            recommended_items = recommended_items[:k]\n",
    "            actual_items = [vendor_id]\n",
    "            if len(actual_items) == 0:\n",
    "                continue  # Skip vendors with no actual high ratings\n",
    "            precision = len(set(recommended_items).intersection(actual_items)) / len(recommended_items)\n",
    "            recall = len(set(recommended_items).intersection(actual_items)) / len(actual_items)\n",
    "            if precision + recall > 0:\n",
    "                f1 = 2 * (precision * recall) / (precision + recall)\n",
    "            else:\n",
    "                f1 = 0\n",
    "            precision_scores.append(precision)\n",
    "            recall_scores.append(recall)\n",
    "            f1_scores.append(f1)\n",
    "    return np.mean(precision_scores), np.mean(recall_scores), np.mean(f1_scores)"
   ]
  },
  {
   "cell_type": "code",
   "execution_count": 49,
   "id": "0fb83277-8559-445a-8d61-947db4341633",
   "metadata": {
    "tags": []
   },
   "outputs": [
    {
     "name": "stdout",
     "output_type": "stream",
     "text": [
      "Content-Based Filtering - Precision: 0.07826086956521738, Recall: 0.782608695652174, F1 Score: 0.1422924901185771\n"
     ]
    }
   ],
   "source": [
    "# Evaluate content-based filtering model\n",
    "test_data = data.sample(frac=0.2, random_state=42)  # Sample 20% of the data for evaluation\n",
    "precision_cb, recall_cb, f1_cb = evaluate_content_based_filtering(test_data)\n",
    "print(f\"Content-Based Filtering - Precision: {precision_cb}, Recall: {recall_cb}, F1 Score: {f1_cb}\")"
   ]
  },
  {
   "cell_type": "code",
   "execution_count": 50,
   "id": "a352c68f-98b3-44e3-903a-18827d0e66c8",
   "metadata": {
    "tags": []
   },
   "outputs": [
    {
     "name": "stdout",
     "output_type": "stream",
     "text": [
      "Comparison of Models:\n",
      "Collaborative Filtering - Precision: 0.9773065476190477, Recall: 0.9677117140926883, F1 Score: 0.9724854650548288\n",
      "Content-Based Filtering - Precision: 0.07826086956521738, Recall: 0.782608695652174, F1 Score: 0.1422924901185771\n"
     ]
    }
   ],
   "source": [
    "# Comparison\n",
    "print(f\"Comparison of Models:\")\n",
    "print(f\"Collaborative Filtering - Precision: {precision_cf}, Recall: {recall_cf}, F1 Score: {f1_cf}\")\n",
    "print(f\"Content-Based Filtering - Precision: {precision_cb}, Recall: {recall_cb}, F1 Score: {f1_cb}\")"
   ]
  },
  {
   "cell_type": "markdown",
   "id": "49f60c1c-1dce-412a-8f33-6e6171be4fd8",
   "metadata": {},
   "source": [
    "When comparing the two recommendation models, Collaborative Filtering and Content-Based Filtering, based on the provided precision, recall, and F1 score metrics, here are the observations:\n",
    "\n",
    "- Collaborative Filtering:\n",
    "    - Precision : 0.979\n",
    "    - Recall : 0.970\n",
    "    - F1 score: 0.975\n",
    "    \n",
    "- Content Based Filtering:\n",
    "    - Precision : 0.078\n",
    "    - Recall : 0.782\n",
    "    - F1 score: 0.142\n",
    "    \n",
    "Analysis:\n",
    "- Precision: Collaborative Filtering has a significantly higher precision (0.979) compared to Content-Based Filtering (0.078). This means that the recommendations made by the Collaborative Filtering model are much more likely to be relevant.\n",
    "- Recall: While the recall for Content-Based Filtering is relatively high (0.782), Collaborative Filtering still has a slightly higher recall (0.970). Recall measures the ability of the model to capture all relevant items.\n",
    "- F1 Score: The F1 score, which is the harmonic mean of precision and recall, is much higher for Collaborative Filtering (0.979) compared to Content-Based Filtering (0.142). This indicates a better balance between precision and recall for the Collaborative Filtering model."
   ]
  },
  {
   "cell_type": "markdown",
   "id": "0d6705e7-39ce-47ce-a255-d182e8ed18e2",
   "metadata": {},
   "source": [
    "## Conclusion ##\n",
    "\n",
    "Based on these metrics, Collaborative Filtering is the better model for our recommendation system. It outperforms Content-Based Filtering significantly in terms of precision, recall, and F1 score, which indicates that it provides more accurate and reliable recommendations."
   ]
  }
 ],
 "metadata": {
  "kernelspec": {
   "display_name": "Python 3 (ipykernel)",
   "language": "python",
   "name": "python3"
  },
  "language_info": {
   "codemirror_mode": {
    "name": "ipython",
    "version": 3
   },
   "file_extension": ".py",
   "mimetype": "text/x-python",
   "name": "python",
   "nbconvert_exporter": "python",
   "pygments_lexer": "ipython3",
   "version": "3.11.8"
  }
 },
 "nbformat": 4,
 "nbformat_minor": 5
}
